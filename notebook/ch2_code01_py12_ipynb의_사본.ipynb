{
  "nbformat": 4,
  "nbformat_minor": 0,
  "metadata": {
    "colab": {
      "name": "ch2_code01_py12.ipynb의 사본",
      "provenance": [],
      "collapsed_sections": [],
      "include_colab_link": true
    },
    "kernelspec": {
      "name": "python3",
      "display_name": "Python 3"
    }
  },
  "cells": [
    {
      "cell_type": "markdown",
      "metadata": {
        "id": "view-in-github",
        "colab_type": "text"
      },
      "source": [
        "<a href=\"https://colab.research.google.com/github/dmstj0162/py12/blob/master/notebook/ch2_code01_py12_ipynb%EC%9D%98_%EC%82%AC%EB%B3%B8.ipynb\" target=\"_parent\"><img src=\"https://colab.research.google.com/assets/colab-badge.svg\" alt=\"Open In Colab\"/></a>"
      ]
    },
    {
      "cell_type": "markdown",
      "metadata": {
        "id": "H4jNE-BMAK3f",
        "colab_type": "text"
      },
      "source": [
        "![대체 텍스트](https://)# ch2_code01.ipynb\n",
        "## py12\n",
        "\n"
      ]
    },
    {
      "cell_type": "code",
      "metadata": {
        "id": "hTRRKc56En6p",
        "colab_type": "code",
        "outputId": "2cb1ce3c-f002-47b3-cff0-9d9bb7f3f401",
        "colab": {
          "base_uri": "https://localhost:8080/",
          "height": 53
        }
      },
      "source": [
        "# ch2_01_numeric.py\n",
        "#\n",
        "print(\"숫자형: 정수\") # 동적타이핑(Dynamic typing)- 에러 방지, 쉽게 코딩을 할 수 있도록 하기 위해서\n",
        "a = 123\n",
        "a = -178\n",
        "# a = 0\n",
        "# a\n",
        "print(a)"
      ],
      "execution_count": 0,
      "outputs": [
        {
          "output_type": "stream",
          "text": [
            "숫자형: 정수\n",
            "-178\n"
          ],
          "name": "stdout"
        }
      ]
    },
    {
      "cell_type": "code",
      "metadata": {
        "id": "82BzBnJ2EvTi",
        "colab_type": "code",
        "outputId": "67415b95-1845-427c-b0e3-d0fcfd6f1763",
        "colab": {
          "base_uri": "https://localhost:8080/",
          "height": 53
        }
      },
      "source": [
        "a1 = 123\n",
        "a2 = -178\n",
        "a3 = 0\n",
        "print(a1,a2,a3)\n",
        "a"
      ],
      "execution_count": 0,
      "outputs": [
        {
          "output_type": "stream",
          "text": [
            "123 -178 0\n"
          ],
          "name": "stdout"
        },
        {
          "output_type": "execute_result",
          "data": {
            "text/plain": [
              "-178"
            ]
          },
          "metadata": {
            "tags": []
          },
          "execution_count": 8
        }
      ]
    },
    {
      "cell_type": "code",
      "metadata": {
        "id": "vtxpJlP6F2_u",
        "colab_type": "code",
        "outputId": "ba59f3d7-fe41-4a24-f3b4-ae53a11eaa4a",
        "colab": {
          "base_uri": "https://localhost:8080/",
          "height": 35
        }
      },
      "source": [
        "print(\"a1 = \",a1)"
      ],
      "execution_count": 0,
      "outputs": [
        {
          "output_type": "stream",
          "text": [
            "a1 =  123\n"
          ],
          "name": "stdout"
        }
      ]
    },
    {
      "cell_type": "markdown",
      "metadata": {
        "id": "UFTkgwa2GAPj",
        "colab_type": "text"
      },
      "source": [
        "### 다음과 같이 출력해 보세요.\n",
        "a1 = 123 a2 =-178 a3=0"
      ]
    },
    {
      "cell_type": "code",
      "metadata": {
        "id": "Yr51UtIQGK_k",
        "colab_type": "code",
        "outputId": "7d5f8c48-fcb8-4f33-f63c-684eab857b18",
        "colab": {
          "base_uri": "https://localhost:8080/",
          "height": 35
        }
      },
      "source": [
        "print(\"a1 = \",a1, \"a2 = \",a2, \"a3 = \",a3)"
      ],
      "execution_count": 0,
      "outputs": [
        {
          "output_type": "stream",
          "text": [
            "a1 =  123 a2 =  -178 a3 =  0\n"
          ],
          "name": "stdout"
        }
      ]
    },
    {
      "cell_type": "markdown",
      "metadata": {
        "id": "LDILl6XYHMMj",
        "colab_type": "text"
      },
      "source": [
        "### 숫자형: 실수\n",
        "> 파이썬에서 실수를 표현해보자."
      ]
    },
    {
      "cell_type": "code",
      "metadata": {
        "id": "AhT9zQ4HDYke",
        "colab_type": "code",
        "outputId": "d86c7388-647a-45cc-e110-ecef5323fd7b",
        "colab": {
          "base_uri": "https://localhost:8080/",
          "height": 53
        }
      },
      "source": [
        "\n",
        "print(\"숫자형: 실수\")\n",
        "a1 = 1.2\n",
        "a2= -3.48\n",
        "a3 = 4.24e10\n",
        "a4 = 4.24e-10\n",
        "a1,a2,a3,a4"
      ],
      "execution_count": 0,
      "outputs": [
        {
          "output_type": "stream",
          "text": [
            "숫자형: 실수\n"
          ],
          "name": "stdout"
        },
        {
          "output_type": "execute_result",
          "data": {
            "text/plain": [
              "(1.2, -3.48, 42400000000.0, 4.24e-10)"
            ]
          },
          "metadata": {
            "tags": []
          },
          "execution_count": 17
        }
      ]
    },
    {
      "cell_type": "code",
      "metadata": {
        "id": "tSNkaqD2G9k1",
        "colab_type": "code",
        "colab": {}
      },
      "source": [
        ""
      ],
      "execution_count": 0,
      "outputs": []
    },
    {
      "cell_type": "code",
      "metadata": {
        "id": "V7bsU6_xG24I",
        "colab_type": "code",
        "outputId": "14d3b309-e439-4ed8-8c92-ddfb686ed4bc",
        "colab": {
          "base_uri": "https://localhost:8080/",
          "height": 89
        }
      },
      "source": [
        "print(\"숫자형: 8진수와 16진수\")\n",
        "a = 0o177\n",
        "print(a)\n",
        "a = 0x8FF # hexadecimal : 16진수, 0 ~ F(15)\n",
        "print(a)\n",
        "a = 0xABC\n",
        "a"
      ],
      "execution_count": 0,
      "outputs": [
        {
          "output_type": "stream",
          "text": [
            "숫자형: 8진수와 16진수\n",
            "127\n",
            "2303\n",
            "2748\n"
          ],
          "name": "stdout"
        }
      ]
    },
    {
      "cell_type": "markdown",
      "metadata": {
        "id": "piPq7RROIwRd",
        "colab_type": "text"
      },
      "source": [
        "### 숫자형 : 연산자와 연산"
      ]
    },
    {
      "cell_type": "code",
      "metadata": {
        "id": "LUUgKTc_HrpL",
        "colab_type": "code",
        "outputId": "a4457220-1f5f-4132-8455-0832eb34f1f1",
        "colab": {
          "base_uri": "https://localhost:8080/",
          "height": 107
        }
      },
      "source": [
        "print(\"숫자형: 연산자와 연산\")\n",
        "a = 3\n",
        "b = 4\n",
        "print(a + b)\n",
        "print(a - b)\n",
        "print(a * b)\n",
        "print(a / b)"
      ],
      "execution_count": 0,
      "outputs": [
        {
          "output_type": "stream",
          "text": [
            "숫자형: 연산자와 연산\n",
            "7\n",
            "-1\n",
            "12\n",
            "0.75\n"
          ],
          "name": "stdout"
        }
      ]
    },
    {
      "cell_type": "code",
      "metadata": {
        "id": "hJwFz_TvJfBW",
        "colab_type": "code",
        "outputId": "f8f6885c-ca8f-45b4-917e-f7590bf36ae3",
        "colab": {
          "base_uri": "https://localhost:8080/",
          "height": 89
        }
      },
      "source": [
        "print(a ** b) # 지수\n",
        "print(a % b) # 나머지\n",
        "print(b % a)\n",
        "print(a // b) # 몫"
      ],
      "execution_count": 0,
      "outputs": [
        {
          "output_type": "stream",
          "text": [
            "81\n",
            "3\n",
            "1\n",
            "0\n"
          ],
          "name": "stdout"
        }
      ]
    },
    {
      "cell_type": "code",
      "metadata": {
        "id": "tpxZb7VWJ8dr",
        "colab_type": "code",
        "outputId": "4c3259c9-6f6d-440e-ce0d-eccd142ba847",
        "colab": {
          "base_uri": "https://localhost:8080/",
          "height": 35
        }
      },
      "source": [
        "14 // 3, 14 % 3\n"
      ],
      "execution_count": 0,
      "outputs": [
        {
          "output_type": "execute_result",
          "data": {
            "text/plain": [
              "(4, 2)"
            ]
          },
          "metadata": {
            "tags": []
          },
          "execution_count": 27
        }
      ]
    },
    {
      "cell_type": "markdown",
      "metadata": {
        "id": "NuPrArTI4h6g",
        "colab_type": "text"
      },
      "source": [
        "### 문자열 정의와 출력"
      ]
    },
    {
      "cell_type": "code",
      "metadata": {
        "id": "dRkzQjiyEnq7",
        "colab_type": "code",
        "colab": {
          "base_uri": "https://localhost:8080/",
          "height": 71
        },
        "outputId": "cb791e4e-36d0-47cf-cc00-90784b9375e6"
      },
      "source": [
        "# ch2_02_string.py\n",
        "# \"Life is too short, you need python\"\n",
        "# 'Life is too short, you need python'\n",
        "# \"\"\"Life is too short, you need python\"\"\"\n",
        "# '''Life is too short, you need python'''\n",
        "\n",
        "\n",
        "print(\"문자열: \")\n",
        "food = \"Python's favorite food is perl\"\n",
        "print(food)\n",
        "food"
      ],
      "execution_count": 2,
      "outputs": [
        {
          "output_type": "stream",
          "text": [
            "문자열: \n",
            "Python's favorite food is perl\n"
          ],
          "name": "stdout"
        },
        {
          "output_type": "execute_result",
          "data": {
            "text/plain": [
              "\"Python's favorite food is perl\""
            ]
          },
          "metadata": {
            "tags": []
          },
          "execution_count": 2
        }
      ]
    },
    {
      "cell_type": "code",
      "metadata": {
        "id": "hB4eFDjm4_v-",
        "colab_type": "code",
        "colab": {}
      },
      "source": [
        "food = 'Python's favorite food is perl'  # Error"
      ],
      "execution_count": 0,
      "outputs": []
    },
    {
      "cell_type": "code",
      "metadata": {
        "id": "SEiP3XnD5RVO",
        "colab_type": "code",
        "colab": {
          "base_uri": "https://localhost:8080/",
          "height": 35
        },
        "outputId": "28bc5007-67e0-4a34-a97c-3226b4d08288"
      },
      "source": [
        "say = '\"Python is very easy.\" he says.'\n",
        "say"
      ],
      "execution_count": 3,
      "outputs": [
        {
          "output_type": "execute_result",
          "data": {
            "text/plain": [
              "'\"Python is very easy.\" he says.'"
            ]
          },
          "metadata": {
            "tags": []
          },
          "execution_count": 3
        }
      ]
    },
    {
      "cell_type": "code",
      "metadata": {
        "id": "dW5mqTDb5v9C",
        "colab_type": "code",
        "colab": {}
      },
      "source": [
        "print(\"문자열: \\ 이용\")\n",
        "food = 'Python\\'s favorite food is perl'\n",
        "say = \"\\\"Python is very easy.\\\" he says.\"\n",
        "print(food)\n",
        "print(say)\n",
        "say"
      ],
      "execution_count": 0,
      "outputs": []
    },
    {
      "cell_type": "markdown",
      "metadata": {
        "id": "lPJLX8Xa6eu4",
        "colab_type": "text"
      },
      "source": [
        "### 이스케이프 코드를 사용한 출력\n"
      ]
    },
    {
      "cell_type": "code",
      "metadata": {
        "id": "cOzHlxrb6Hz2",
        "colab_type": "code",
        "colab": {
          "base_uri": "https://localhost:8080/",
          "height": 71
        },
        "outputId": "215dd675-7bab-4d22-cd92-a3a32222b1b7"
      },
      "source": [
        "# 이스케이프 코드\n",
        "print(\"문자열: 이스케이프 코드 이용\")\n",
        "multiline = \"Life is too short\\nYou need python\"\n",
        "multiline\n",
        "print(multiline)"
      ],
      "execution_count": 4,
      "outputs": [
        {
          "output_type": "stream",
          "text": [
            "문자열: 이스케이프 코드 이용\n",
            "Life is too short\n",
            "You need python\n"
          ],
          "name": "stdout"
        }
      ]
    },
    {
      "cell_type": "markdown",
      "metadata": {
        "id": "ENfUgXbU6qXa",
        "colab_type": "text"
      },
      "source": [
        "### 여러줄 문자열 처리\n",
        "# \"\"\"...\"\"\"\n",
        "# '''...'''\n"
      ]
    },
    {
      "cell_type": "code",
      "metadata": {
        "id": "o8PEsCCb6Nkh",
        "colab_type": "code",
        "colab": {
          "base_uri": "https://localhost:8080/",
          "height": 233
        },
        "outputId": "fff50bd6-941d-449e-e827-d5624814bd4a"
      },
      "source": [
        "# 여러줄 문자열 처리\n",
        "multiline = '''\n",
        "... Life is too short#엔터치면 줄바꿈 일어남\n",
        "... You need python\n",
        "... '''\n",
        "multiline2 = \"\"\"\n",
        "\n",
        "인생은 짧고,\n",
        "파이썬은 필요하다.\n",
        "\"\"\"\n",
        "multiline3 = \"\"\"인생은 짧고,\n",
        "파이썬은 필요하다.\n",
        "\"\"\"\n",
        "\n",
        "print(multiline)\n",
        "print(multiline2)\n",
        "print(multiline3)"
      ],
      "execution_count": 6,
      "outputs": [
        {
          "output_type": "stream",
          "text": [
            "\n",
            "Life is too short\n",
            "You need python\n",
            "\n",
            "\n",
            "\n",
            "인생은 짧고,\n",
            "파이썬은 필요하다.\n",
            "\n",
            "인생은 짧고,\n",
            "파이썬은 필요하다.\n",
            "\n"
          ],
          "name": "stdout"
        }
      ]
    },
    {
      "cell_type": "markdown",
      "metadata": {
        "id": "c9bhr1oR7o52",
        "colab_type": "text"
      },
      "source": [
        "### 문자열 연산\n"
      ]
    },
    {
      "cell_type": "code",
      "metadata": {
        "id": "TmS4KHEv7W1b",
        "colab_type": "code",
        "colab": {
          "base_uri": "https://localhost:8080/",
          "height": 53
        },
        "outputId": "e0726d41-3502-411e-f21e-0cbd81532d1f"
      },
      "source": [
        "\n",
        "################################################\n",
        "print(\"문자열 연산: 더하기\")\n",
        "head = \"Python\"\n",
        "tail = \" is fun!\"\n",
        "head + tail\n"
      ],
      "execution_count": 7,
      "outputs": [
        {
          "output_type": "stream",
          "text": [
            "문자열 연산: 더하기\n"
          ],
          "name": "stdout"
        },
        {
          "output_type": "execute_result",
          "data": {
            "text/plain": [
              "'Python is fun!'"
            ]
          },
          "metadata": {
            "tags": []
          },
          "execution_count": 7
        }
      ]
    },
    {
      "cell_type": "code",
      "metadata": {
        "id": "pxVOy4rk7tHg",
        "colab_type": "code",
        "colab": {
          "base_uri": "https://localhost:8080/",
          "height": 53
        },
        "outputId": "f940cbaa-eec5-4cd1-cef3-7fd5488431f5"
      },
      "source": [
        "print(\"문자열 연산: 곱하기\")\n",
        "a = \"python\"\n",
        "a * 2\n"
      ],
      "execution_count": 8,
      "outputs": [
        {
          "output_type": "stream",
          "text": [
            "문자열 연산: 곱하기\n"
          ],
          "name": "stdout"
        },
        {
          "output_type": "execute_result",
          "data": {
            "text/plain": [
              "'pythonpython'"
            ]
          },
          "metadata": {
            "tags": []
          },
          "execution_count": 8
        }
      ]
    },
    {
      "cell_type": "code",
      "metadata": {
        "id": "t04PVxsr7znT",
        "colab_type": "code",
        "colab": {
          "base_uri": "https://localhost:8080/",
          "height": 71
        },
        "outputId": "dbd03333-ddff-4bcc-cc98-7599182b6d5b"
      },
      "source": [
        "#####################################\n",
        "# multistring.py\n",
        "print(\"=\" * 50)\n",
        "print(\"I am now coding Python!\")\n",
        "print(\"=\" * 50)\n",
        "#####################################"
      ],
      "execution_count": 9,
      "outputs": [
        {
          "output_type": "stream",
          "text": [
            "==================================================\n",
            "I am now coding Python!\n",
            "==================================================\n"
          ],
          "name": "stdout"
        }
      ]
    },
    {
      "cell_type": "code",
      "metadata": {
        "id": "rp0J_ic-73LZ",
        "colab_type": "code",
        "colab": {
          "base_uri": "https://localhost:8080/",
          "height": 53
        },
        "outputId": "54c60e13-302f-4b7e-a422-45d8192d2022"
      },
      "source": [
        "# 내장함수: len()\n",
        "print(\"문자열 연산: 길이 구하기 - len()\")\n",
        "a = \"Life is too short.\"\n",
        "len(a)"
      ],
      "execution_count": 11,
      "outputs": [
        {
          "output_type": "stream",
          "text": [
            "문자열 연산: 길이 구하기 - len()\n"
          ],
          "name": "stdout"
        },
        {
          "output_type": "execute_result",
          "data": {
            "text/plain": [
              "18"
            ]
          },
          "metadata": {
            "tags": []
          },
          "execution_count": 11
        }
      ]
    },
    {
      "cell_type": "markdown",
      "metadata": {
        "id": "mQsvzcjc8JyP",
        "colab_type": "text"
      },
      "source": [
        "### 문자열 인덱싱, 슬라이싱\n",
        "> 문자열은 문자들의 집합(또는 배열)이다.\n"
      ]
    },
    {
      "cell_type": "code",
      "metadata": {
        "id": "q4FaGucs7-uL",
        "colab_type": "code",
        "colab": {
          "base_uri": "https://localhost:8080/",
          "height": 107
        },
        "outputId": "8049c62f-849c-44a3-d4f3-7db652d800eb"
      },
      "source": [
        "#####################################\n",
        "#\n",
        "# 문자열 인덱싱과 슬라이싱\n",
        "#\n",
        "#####################################\n",
        "print(\"문자열: 인덱싱이란?\")\n",
        "a = \"Life is too short, You need Python\"\n",
        "print(a[3])\n",
        "print(a[15])\n",
        "print(a[30])"
      ],
      "execution_count": 12,
      "outputs": [
        {
          "output_type": "stream",
          "text": [
            "문자열: 인덱싱이란?\n",
            "e\n",
            "r\n",
            "t\n",
            "ERROR! Session/line number was not unique in database. History logging moved to new session 59\n"
          ],
          "name": "stdout"
        }
      ]
    },
    {
      "cell_type": "code",
      "metadata": {
        "id": "yzmAjEE18lNg",
        "colab_type": "code",
        "colab": {
          "base_uri": "https://localhost:8080/",
          "height": 53
        },
        "outputId": "22a360be-016d-4843-e523-2b360f441ca6"
      },
      "source": [
        "# \"파이썬은 0부터 숫자를 센다.(인덱싱)\"\n",
        "print(\"문자열: 인덱싱 활용\")\n",
        "\n",
        "a = \"Life is too short, You need Python\"\n",
        "#a[0]\n",
        "\n",
        "#a[12]\n",
        "\n",
        "a[-1]#맨끝\n",
        "\n",
        "# a[-0] #그냥0\n",
        "#a[-2]\n",
        "#a[-5]\n",
        "#a[-12]"
      ],
      "execution_count": 13,
      "outputs": [
        {
          "output_type": "stream",
          "text": [
            "문자열: 인덱싱 활용\n"
          ],
          "name": "stdout"
        },
        {
          "output_type": "execute_result",
          "data": {
            "text/plain": [
              "'n'"
            ]
          },
          "metadata": {
            "tags": []
          },
          "execution_count": 13
        }
      ]
    },
    {
      "cell_type": "code",
      "metadata": {
        "id": "EB_3qhMh9L_J",
        "colab_type": "code",
        "colab": {
          "base_uri": "https://localhost:8080/",
          "height": 53
        },
        "outputId": "70a12bc5-3fe8-4e60-fbfe-1664abfe2166"
      },
      "source": [
        "#####################################\n",
        "print(\"문자열: 슬라이싱이란?\")#단어를 선택할 때\n",
        "a = \"Life is too short, You need Python\"\n",
        "# Life 를 뽑아낼려면 어떻게?\n",
        "b = a[0] + a[1] + a[2] + a[3]  # 문자열 뎌하기 연산\n",
        "b"
      ],
      "execution_count": 14,
      "outputs": [
        {
          "output_type": "stream",
          "text": [
            "문자열: 슬라이싱이란?\n"
          ],
          "name": "stdout"
        },
        {
          "output_type": "execute_result",
          "data": {
            "text/plain": [
              "'Life'"
            ]
          },
          "metadata": {
            "tags": []
          },
          "execution_count": 14
        }
      ]
    },
    {
      "cell_type": "code",
      "metadata": {
        "id": "7nUOjU4O9lg-",
        "colab_type": "code",
        "colab": {
          "base_uri": "https://localhost:8080/",
          "height": 35
        },
        "outputId": "9df39c11-85e9-4247-b951-c6561f05d04b"
      },
      "source": [
        "# slicing (슬라이싱)\n",
        "a[0:4]  # 0 <= index < 4"
      ],
      "execution_count": 15,
      "outputs": [
        {
          "output_type": "execute_result",
          "data": {
            "text/plain": [
              "'Life'"
            ]
          },
          "metadata": {
            "tags": []
          },
          "execution_count": 15
        }
      ]
    },
    {
      "cell_type": "code",
      "metadata": {
        "id": "mNfqr4fq9zn4",
        "colab_type": "code",
        "colab": {
          "base_uri": "https://localhost:8080/",
          "height": 53
        },
        "outputId": "5b65f03a-cbf4-4a0b-984d-cf48837fefda"
      },
      "source": [
        "a[0:5]\n",
        "print(a[5:7])\n",
        "print(a[12:17])"
      ],
      "execution_count": 16,
      "outputs": [
        {
          "output_type": "stream",
          "text": [
            "is\n",
            "short\n"
          ],
          "name": "stdout"
        }
      ]
    },
    {
      "cell_type": "code",
      "metadata": {
        "id": "oXcMtGcM93vr",
        "colab_type": "code",
        "colab": {
          "base_uri": "https://localhost:8080/",
          "height": 71
        },
        "outputId": "f64442fd-c3d3-4c31-a89d-7471e1d9b03d"
      },
      "source": [
        "# : 의 사용\n",
        "print(a[:4])\n",
        "print(a[19:])\n",
        "print(a[:17])"
      ],
      "execution_count": 17,
      "outputs": [
        {
          "output_type": "stream",
          "text": [
            "Life\n",
            "You need Python\n",
            "Life is too short\n"
          ],
          "name": "stdout"
        }
      ]
    },
    {
      "cell_type": "markdown",
      "metadata": {
        "id": "L9Bv6o0h-lfn",
        "colab_type": "text"
      },
      "source": [
        "# 여기까지 배움\n"
      ]
    },
    {
      "cell_type": "code",
      "metadata": {
        "id": "h4vjHSiR-jDA",
        "colab_type": "code",
        "colab": {}
      },
      "source": [
        "\n",
        "\n",
        "a[:]# a[19:-7] ?\n",
        "a[19:-7]\n",
        "\n",
        "print(\"문자열: 슬라이싱 응용?\")\n",
        "a = \"20190909Sunny\"\n",
        "date = a[:8]\n",
        "weather = a[8:]\n",
        "date\n",
        "weather\n",
        "\n",
        "a = \"20190917Rainy\"\n",
        "year = a[:4]\n",
        "day = a[4:8]\n",
        "weather = a[8:]\n",
        "year,day,weather"
      ],
      "execution_count": 0,
      "outputs": []
    },
    {
      "cell_type": "code",
      "metadata": {
        "id": "urZZdc8t-SzB",
        "colab_type": "code",
        "colab": {}
      },
      "source": [
        "\n",
        "\n",
        "# \"Pithon\"이라는 문자열을 \"Python\"으로 바꾸려면?\n",
        "a = \"Pithon\"\n",
        "a[1]\n",
        "a[1] = 'y'  # Error (immutable한 자료형)\n",
        "#################\n",
        "a = \"Pithon\"\n",
        "a[:1]\n",
        "a[2:]\n",
        "a[:1] + 'y' + a[2:]  # Python\n"
      ],
      "execution_count": 0,
      "outputs": []
    },
    {
      "cell_type": "code",
      "metadata": {
        "id": "0_aoWauTEjRR",
        "colab_type": "code",
        "colab": {}
      },
      "source": [
        "# ch2_03_string_formating.py\n",
        "\n",
        "print(\"문자열: 포매팅이란?\")\n",
        "# 1. 숫자 바로 대입\n",
        "\"I eat %d apples.\" % 3\n",
        "\n",
        "# 2. 문자열 바로 대입\n",
        "\"I eat %s apples.\" % \"five\"\n",
        "\n",
        "# 3. 숫자 값을 나타내는 변수로 대입\n",
        "number = 3\n",
        "\"I eat %d apples.\" % number\n",
        "\n",
        "# 4. 2개 이상의 값 넣기\n",
        "number = 10\n",
        "day = \"three\"\n",
        "\"I ate %d apples. so I was sick for %s days.\" % number  # , day   # Error\n",
        "\"I ate %d apples. so I was sick for %s days.\" % (number, day)\n",
        "# 소괄호 안에 콤마(,)로 구분하여 각각의 값을 넣어 준다.\n",
        "\n",
        "print(\"문자열: 포맷 코드\")\n",
        "# %d, %s, %c, %f, %o, %x, %%\n",
        "# %s, 묵시적 형변환\n",
        "\"I have %s apples\" % 3\n",
        "\"rate is %s\" % 3.234\n",
        "\n",
        "\"Error is %d%.\" % 98\n",
        "\"Error is %d%%.\" % 98\n",
        "\n",
        "###############################################-p60\n",
        "print(\"문자열: 포맷 코드와 숫자 함께 사용하기\")\n",
        "# 1. 정렬과 공백\n",
        "\"%10s\" % \"hi\"\n",
        "\"%-10sjane.\" % \"hi\"\n",
        "# 2. 소수점 표현하기\n",
        "\"%0.4f\" % 3.42134234\n",
        "\"%10.4f\" % 3.42134234\n",
        "\n",
        "print(\"문자열: format 함수를 사용한 포매팅\")\n",
        "# 1. 숫자 바로 대입하기\n",
        "\"I eat {0} apples\".format(3)\n",
        "\"I eat {0} {1} apples\".format(3, 4)\n",
        "\n",
        "# 2. 문자열 바로 대입하기\n",
        "\"I eat {0} apples\".format(\"five\")\n",
        "\"I eat {0} apples from {1} boxes\".format(\"five\", \"three\")\n",
        "\n",
        "# 3. 숫자 값을 가진 변수로 대입하기\n",
        "number = 3\n",
        "\"I eat {0} apples\".format(number)\n",
        "\"I eat {0} apples\".format(number + 1)\n",
        "\n",
        "# 2개 이상의 값 넣기\n",
        "number = 10\n",
        "day = \"three\"\n",
        "\"I ate {0} apples. so I was sick for {1} days.\".format(number, day)\n",
        "# 이름으로 넣기\n",
        "\"I ate {number} apples. so I was sick for {day} days.\".format(number=10, day=3)\n",
        "# 인덱스와 이름을 혼용해서 넣기\n",
        "\"I ate {0} apples. so I was sick for {day} days.\".format(10, day=3)\n",
        "#\n",
        "######################################\n",
        "# 왼쪽 정렬/ 오른쪽 정렬\n",
        "\"{0:<10}\".format(\"hi\")\n",
        "\"{0:>10}\".format(\"hi\")\n",
        "# 가운데 정렬\n",
        "\"{0:^10}\".format(\"hi\")\n",
        "# 공백 채우기\n",
        "\"{0:=^10}\".format(\"hi\")\n",
        "\"{0:!<10}\".format(\"hi\")\n",
        "# 도전하기\n",
        "# \"{0:<10}{1:>10}\".format(\"hi\",'hcit')\n",
        "\n",
        "#########################################\n",
        "\n",
        "# 소수점 표현하기\n",
        "y = 3.42134234\n",
        "\"{0:0.4f}\".format(y)\n",
        "\"{0:10.4f}\".format(y)\n",
        "# { 또는 } 문자 표현하기\n",
        "\"{{ and }}\".format()\n",
        "\n",
        "##########################\n",
        "##### f 문자열 포매팅 #####\n",
        "##### .format() 대체\n",
        "##########################\n",
        "print(\"문자열: f 문자열 포매팅\")\n",
        "name = \"홍길동\"\n",
        "age = 30\n",
        "f\"나의 이름은 {name}입니다. 나이는 {age}입니다.\"\n",
        "\n",
        "age = 30\n",
        "f\"나는 내년이면 {age+1}살이 된다.\"\n",
        "\n",
        "# 딕셔너리는 f 문자열 포매팅에서 다음과 같이 사용\n",
        "d = {\"name\": \"홍길동\", \"age\": 30}\n",
        "f'나의 이름은 {d[\"name\"]}입니다. 나이는 {d[\"age\"]}입니다.'\n",
        "# 정렬\n",
        "f'{\"hi\":<10}'  # 왼쪽 정렬\n",
        "f'{\"hi\":>10}'  # 오른쪽 정렬\n",
        "f'{\"hi\":^10}'  # 가운데 정렬\n",
        "# 공백 채우기\n",
        "y = 3.42134234\n",
        "f\"{y:0.4f}\"  # 소수점 4자리까지만 표현\n",
        "f\"{y:10.4f}\"  # 소수점 4자리까지 표현하고 총 자리수를 10으로 맞춤\n",
        "# { } 문자를 표시\n",
        "f\"{{ and }}\"\n",
        "\n",
        "##############################################\n",
        "print(\"문자열: 관련 내장 함수들\")\n",
        "# 문자 개수 세기(count)\n",
        "a = \"hobby\"\n",
        "a.count(\"b\")\n",
        "# 위치 알려주기1(find)\n",
        "a = \"Python is the best choice\"\n",
        "a.find(\"b\")\n",
        "a.find(\"k\")  # what value?\n",
        "# 위치 알려주기2(index)\n",
        "a = \"Life is too short\"\n",
        "a.index(\"t\")\n",
        "a.index(\"k\")\n",
        "\n",
        "# 문자열 삽입(join)\n",
        "\",\".join(\"abcd\")\n",
        "\",\".join([\"a\", \"b\", \"c\", \"d\"])\n",
        "# 소문자를 대문자로 바꾸기(upper)\n",
        "a = \"hi\"\n",
        "a.upper()\n",
        "# 대문자를 소문자로 바꾸기(lower)\n",
        "a = \"IoT\"\n",
        "a.lower()\n",
        "# 왼쪽 공백 지우기(lstrip)\n",
        "a = \" hi \"\n",
        "a.lstrip()\n",
        "# 오른쪽 공백 지우기(rstrip)\n",
        "a.rstrip()\n",
        "# 양쪽 공백 지우기(strip)\n",
        "a.strip()\n",
        "# 문자열 바꾸기(replace)\n",
        "a = \"Life is too short\"\n",
        "a.replace(\"Life\", \"Your leg\")\n",
        "\n",
        "# 문자열 나누기(split) -> 리스트로 변환하여 반환\n",
        "a = \"Life is too short\"\n",
        "a.split()\n",
        "b = \"a:b:c:d\"\n",
        "b.split(\":\")\n",
        "\n",
        "#### 도전하기 #####\n",
        "# format 함수 또는 f 문자열 포매팅을 이용해서 '!!!python!!!' 문자열을 출력해보시오.\n",
        "\"{0:!^12}\".format(\"python\")\n",
        "f'{\"python\":!^12}'\n"
      ],
      "execution_count": 0,
      "outputs": []
    }
  ]
}