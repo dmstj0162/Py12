{
  "nbformat": 4,
  "nbformat_minor": 0,
  "metadata": {
    "colab": {
      "name": "mid_exam_py12.ipynb",
      "provenance": [],
      "collapsed_sections": [],
      "authorship_tag": "ABX9TyMY5z7BVGS2v9QOM6x6NwSX",
      "include_colab_link": true
    },
    "kernelspec": {
      "name": "python3",
      "display_name": "Python 3"
    }
  },
  "cells": [
    {
      "cell_type": "markdown",
      "metadata": {
        "id": "view-in-github",
        "colab_type": "text"
      },
      "source": [
        "<a href=\"https://colab.research.google.com/github/dmstj0162/py12/blob/master/mid_exam_py12.ipynb\" target=\"_parent\"><img src=\"https://colab.research.google.com/assets/colab-badge.svg\" alt=\"Open In Colab\"/></a>"
      ]
    },
    {
      "cell_type": "markdown",
      "metadata": {
        "id": "J8EN9s4ZPIhk",
        "colab_type": "text"
      },
      "source": [
        "### 파이썬활용 중간고사 풀이"
      ]
    },
    {
      "cell_type": "markdown",
      "metadata": {
        "id": "3iAOtzw4POSt",
        "colab_type": "text"
      },
      "source": [
        "### 문제1. 다음 식의 연산 결과는?\n"
      ]
    },
    {
      "cell_type": "code",
      "metadata": {
        "id": "lUz8WpPFPrJo",
        "colab_type": "code",
        "colab": {
          "base_uri": "https://localhost:8080/",
          "height": 36
        },
        "outputId": "ebcd62ef-74c4-49c3-ba6b-0653f4e63bb6"
      },
      "source": [
        "a = 5\n",
        "b = 3\n",
        "a**b # a**b 에서 **은 a의 b제곱을 나타내는 연산자입니다. 따라서 답은 125 입니다."
      ],
      "execution_count": 1,
      "outputs": [
        {
          "output_type": "execute_result",
          "data": {
            "text/plain": [
              "125"
            ]
          },
          "metadata": {
            "tags": []
          },
          "execution_count": 1
        }
      ]
    },
    {
      "cell_type": "markdown",
      "metadata": {
        "id": "lJ9aG9kFQQAx",
        "colab_type": "text"
      },
      "source": [
        "###문제2. 다음 문자열 a에 대하여 슬라이싱을 한 결과는 ?"
      ]
    },
    {
      "cell_type": "code",
      "metadata": {
        "id": "LwWqo7j2Qez-",
        "colab_type": "code",
        "colab": {
          "base_uri": "https://localhost:8080/",
          "height": 36
        },
        "outputId": "8caa3dc1-c819-4cfa-b0d7-f9f623d6aab1"
      },
      "source": [
        "a = \"Life is too short, You need Python!\"\n",
        "a[-16:-8] # -는 문자를 맨 뒤에서부터 세라는 뜻입니다. 따라서 답은 'You need'입니다."
      ],
      "execution_count": 6,
      "outputs": [
        {
          "output_type": "execute_result",
          "data": {
            "text/plain": [
              "'You need'"
            ]
          },
          "metadata": {
            "tags": []
          },
          "execution_count": 6
        }
      ]
    },
    {
      "cell_type": "markdown",
      "metadata": {
        "id": "b6EeG9kIREGv",
        "colab_type": "text"
      },
      "source": [
        "###문제3. 다음 list a의 인덱싱 결과는?\n"
      ]
    },
    {
      "cell_type": "code",
      "metadata": {
        "id": "NT5q10CKQy-1",
        "colab_type": "code",
        "colab": {
          "base_uri": "https://localhost:8080/",
          "height": 36
        },
        "outputId": "b7c8f9b5-1bf7-4149-f27b-4bf181f7fc5d"
      },
      "source": [
        "a = [1, 2, (3, 4),['a', 'b',['My','Life', 'Good']]]\n",
        "a[3][-1][0] # 첫번째 a[3]은 ['a', 'b',['My','Life', 'Good']]]를 나타냅니다.\n",
        "            # 두번째 a[-1]은 뒤에서부터 세기 때문에 ['My','Life', 'Good']입니다.\n",
        "            # 세번째 a[0]은 'My'를 나타냅니다.\n",
        "            # 따라서 답은 'My'입니다."
      ],
      "execution_count": 7,
      "outputs": [
        {
          "output_type": "execute_result",
          "data": {
            "text/plain": [
              "'My'"
            ]
          },
          "metadata": {
            "tags": []
          },
          "execution_count": 7
        }
      ]
    },
    {
      "cell_type": "markdown",
      "metadata": {
        "id": "lUzH0skqSYEc",
        "colab_type": "text"
      },
      "source": [
        "###문제4. 다음 tuple t1의 슬라이싱 결과는?"
      ]
    },
    {
      "cell_type": "code",
      "metadata": {
        "id": "oB_bO7osSVly",
        "colab_type": "code",
        "colab": {
          "base_uri": "https://localhost:8080/",
          "height": 36
        },
        "outputId": "e8b91bbe-080b-4fbe-f3a1-4fd11eb83341"
      },
      "source": [
        "t1 = (0, 1, \"s\", \"t\", \"u\")\n",
        "t1[2:-2] # 슬라이싱을 하게 되면 결과가 ('s',)로 나오게 되는데 튜플은 한 개의 요소만 가질경우 꼭 콤마(,)를 붙여야 하기 때문입니다."
      ],
      "execution_count": 8,
      "outputs": [
        {
          "output_type": "execute_result",
          "data": {
            "text/plain": [
              "('s',)"
            ]
          },
          "metadata": {
            "tags": []
          },
          "execution_count": 8
        }
      ]
    },
    {
      "cell_type": "markdown",
      "metadata": {
        "id": "YXfFF9kjTSUd",
        "colab_type": "text"
      },
      "source": [
        "###문제5. 다음 bool 값 출력 중 정확한 것은?\n"
      ]
    },
    {
      "cell_type": "code",
      "metadata": {
        "id": "9paRfiaoTOc8",
        "colab_type": "code",
        "colab": {
          "base_uri": "https://localhost:8080/",
          "height": 36
        },
        "outputId": "5f7e7628-2fb0-4050-d324-10a15a9fc601"
      },
      "source": [
        "bool([0,1,2]), bool([(0)]), bool((0)), bool((0,))\n",
        "# bool([0,1,2])는 값이 리스트 이므로 참\n",
        "# bool([(0)])은 값이 리스트 이므로 참\n",
        "# bool((0))은 값이 0이기 때문에 거짓\n",
        "# bool((0,)) 튜플에 요소가 담겨 있기 때문에 참"
      ],
      "execution_count": 9,
      "outputs": [
        {
          "output_type": "execute_result",
          "data": {
            "text/plain": [
              "(True, True, False, True)"
            ]
          },
          "metadata": {
            "tags": []
          },
          "execution_count": 9
        }
      ]
    },
    {
      "cell_type": "markdown",
      "metadata": {
        "id": "tUbhQz7QUsjq",
        "colab_type": "text"
      },
      "source": [
        "###문제6. 다음 조건문을 1줄 코드로 변경하시오."
      ]
    },
    {
      "cell_type": "code",
      "metadata": {
        "id": "c760ywWET4z4",
        "colab_type": "code",
        "colab": {}
      },
      "source": [
        "score = 80\n",
        "if score>= 60:\n",
        "  message = \"success\"\n",
        "else:\n",
        "  message = \"failure\"\n",
        "# 파이썬의 조건부 표현식을 사용하면 1줄 코드로 바꿀 수 있다.\n",
        "# message = \"success\" if score>=60 else \"failure\""
      ],
      "execution_count": 0,
      "outputs": []
    },
    {
      "cell_type": "markdown",
      "metadata": {
        "id": "W5AUDpXpVnlJ",
        "colab_type": "text"
      },
      "source": [
        "### 문제7. 다음 코드의 실행 결과는?\n"
      ]
    },
    {
      "cell_type": "code",
      "metadata": {
        "id": "MJj_RCZ0VscD",
        "colab_type": "code",
        "colab": {
          "base_uri": "https://localhost:8080/",
          "height": 36
        },
        "outputId": "8f9f7e87-eccb-4747-a247-8f598e4d6509"
      },
      "source": [
        "games = [\"A\", \"B\", \"C\"]\n",
        "\n",
        "for cnt in range(len(games)):\n",
        "  print(cnt, games[cnt], end=',')\n",
        "# print문은 여러 항목들을 구분할 때, 항목 사이끼리 원 스페이스 바로 떨어져있고 end 속성으로 줄을 바꾸지 않고 ,를 넣었다"
      ],
      "execution_count": 12,
      "outputs": [
        {
          "output_type": "stream",
          "text": [
            "0 A,1 B,2 C,"
          ],
          "name": "stdout"
        }
      ]
    },
    {
      "cell_type": "markdown",
      "metadata": {
        "id": "GE_90vVTXGkF",
        "colab_type": "text"
      },
      "source": [
        "###문제8. 다음의 결과가 출력되지 않는 것은?\n",
        "'I ate 10 apples. so i was sick for three days.'"
      ]
    },
    {
      "cell_type": "code",
      "metadata": {
        "id": "NqETG2DRV_Qp",
        "colab_type": "code",
        "colab": {}
      },
      "source": [
        "# code start\n",
        "number= 10\n",
        "day= \"three\"\n",
        "\n",
        "#\"I ate {0} apples. so I was sick for {1} days\", format(10, day) \n",
        "#f\"I ate {number} apples. so I was sick for {day} days.\"\n",
        "#f\"I ate {number} apples. so I was sick for {'three'} days.\"\n",
        "#\"I ate {0} apples. so I was sick for {1} days.\", format(number=10, day) format 함수의 입력값이 number만 설정 되어 있어서 오류가 납니다."
      ],
      "execution_count": 0,
      "outputs": []
    },
    {
      "cell_type": "markdown",
      "metadata": {
        "id": "1I_kDrhfZX-f",
        "colab_type": "text"
      },
      "source": [
        "### 문제9. 리스트 내포를 사용해 1부터 1000이하의 자연수 중 5의 배수의 합을 구하는 한 줄 코드를 작성하시오."
      ]
    },
    {
      "cell_type": "code",
      "metadata": {
        "id": "KOmC2KNaZfYD",
        "colab_type": "code",
        "colab": {
          "base_uri": "https://localhost:8080/",
          "height": 36
        },
        "outputId": "e3e4788d-5383-4cbc-cf39-a0966ae2e149"
      },
      "source": [
        "sum([num for num in range(1, 1001) if num % 5==0]) \n",
        "# 5의 배수를 구할려면 5로 나누었을 때 나머지가 0 이어야 하고 5의 배수들을 모두 더하는 것이므로 sum함수를 사용해야 합니다."
      ],
      "execution_count": 14,
      "outputs": [
        {
          "output_type": "execute_result",
          "data": {
            "text/plain": [
              "100500"
            ]
          },
          "metadata": {
            "tags": []
          },
          "execution_count": 14
        }
      ]
    },
    {
      "cell_type": "markdown",
      "metadata": {
        "id": "aH6PuiaMaK8k",
        "colab_type": "text"
      },
      "source": [
        "### 문제10. 4개 과목의 평균 성적을 구하시오. [a],[b]에 적합한 코드는?"
      ]
    },
    {
      "cell_type": "code",
      "metadata": {
        "id": "zj8br2XEZzFE",
        "colab_type": "code",
        "colab": {
          "base_uri": "https://localhost:8080/",
          "height": 139
        },
        "outputId": "3fa9a225-f19a-4e82-ef9e-82943c8461df"
      },
      "source": [
        "subjects['python', 'english','math', 'science']\n",
        "scores = [88, 77, 66, 95]\n",
        "total = 0\n",
        "\n",
        "for subject, score in [a]. _____(subjects, scores):\n",
        "  total += score\n",
        "  print(subject, score)\n",
        "print(\"평균 점수 = (0), format([b].____\"))\n",
        "\n",
        "# zip, total/len(subjects)을 사용해야 합니다.\n",
        "# total을 subjects의 총 갯수로 나누는 것이 평균이기 때문입니다."
      ],
      "execution_count": 15,
      "outputs": [
        {
          "output_type": "error",
          "ename": "SyntaxError",
          "evalue": "ignored",
          "traceback": [
            "\u001b[0;36m  File \u001b[0;32m\"<ipython-input-15-cbbdf31dc1e9>\"\u001b[0;36m, line \u001b[0;32m8\u001b[0m\n\u001b[0;31m    print(\"평균 점수 = (0), format([b].____\"))\u001b[0m\n\u001b[0m                                         ^\u001b[0m\n\u001b[0;31mSyntaxError\u001b[0m\u001b[0;31m:\u001b[0m invalid syntax\n"
          ]
        }
      ]
    },
    {
      "cell_type": "code",
      "metadata": {
        "id": "QwyXFdujbIsZ",
        "colab_type": "code",
        "colab": {}
      },
      "source": [
        ""
      ],
      "execution_count": 0,
      "outputs": []
    }
  ]
}